{
  "nbformat": 4,
  "nbformat_minor": 0,
  "metadata": {
    "colab": {
      "provenance": []
    },
    "kernelspec": {
      "name": "python3",
      "display_name": "Python 3"
    },
    "language_info": {
      "name": "python"
    }
  },
  "cells": [
    {
      "cell_type": "code",
      "execution_count": 59,
      "metadata": {
        "id": "pwT3AFCsUDDq"
      },
      "outputs": [],
      "source": [
        "import tensorflow as tf\n",
        "from tensorflow import keras\n",
        "from tensorflow.keras import layers\n",
        "from tensorflow.keras.datasets import cifar100\n",
        "import warnings\n",
        "warnings.filterwarnings('ignore')"
      ]
    },
    {
      "cell_type": "code",
      "source": [
        "(x_train,y_train),(x_test,y_test)=cifar100.load_data()\n",
        "(x_train,x_test)=(x_train/255,x_test/255)"
      ],
      "metadata": {
        "id": "auouGjv-VcQ-"
      },
      "execution_count": 60,
      "outputs": []
    },
    {
      "cell_type": "code",
      "source": [
        "model=keras.Sequential([layers.Flatten(input_shape=(32,32,3)),\n",
        "                       layers.Dense(ch\n",
        "                                    ,activation='relu'),\n",
        "                       layers.Dense(128,activation='relu'),\n",
        "                       layers.Dense(100,activation='softmax')])"
      ],
      "metadata": {
        "id": "jxzdB0h7V495"
      },
      "execution_count": 61,
      "outputs": []
    },
    {
      "cell_type": "code",
      "source": [
        "model.compile(optimizer='adam',\n",
        "              loss=tf.keras.losses.SparseCategoricalCrossentropy(from_logits=True),\n",
        "              #loss='sparse_categorical_crossentropy',\n",
        "              metrics=['accuracy'])"
      ],
      "metadata": {
        "id": "iuGvPSRKW75y"
      },
      "execution_count": 62,
      "outputs": []
    },
    {
      "cell_type": "code",
      "source": [
        "history=model.fit(x_train,y_train,validation_split=0.1,epochs=10)"
      ],
      "metadata": {
        "colab": {
          "base_uri": "https://localhost:8080/"
        },
        "id": "ejwogZleWw3W",
        "outputId": "7db5fcbc-694c-43de-a11e-d18c3a48a778"
      },
      "execution_count": 63,
      "outputs": [
        {
          "output_type": "stream",
          "name": "stdout",
          "text": [
            "Epoch 1/10\n",
            "1407/1407 [==============================] - 25s 17ms/step - loss: 4.0832 - accuracy: 0.0759 - val_loss: 3.8259 - val_accuracy: 0.1092\n",
            "Epoch 2/10\n",
            "1407/1407 [==============================] - 23s 16ms/step - loss: 3.7303 - accuracy: 0.1265 - val_loss: 3.7393 - val_accuracy: 0.1282\n",
            "Epoch 3/10\n",
            "1407/1407 [==============================] - 21s 15ms/step - loss: 3.5883 - accuracy: 0.1517 - val_loss: 3.5687 - val_accuracy: 0.1612\n",
            "Epoch 4/10\n",
            "1407/1407 [==============================] - 22s 15ms/step - loss: 3.4897 - accuracy: 0.1698 - val_loss: 3.5968 - val_accuracy: 0.1562\n",
            "Epoch 5/10\n",
            "1407/1407 [==============================] - 21s 15ms/step - loss: 3.4183 - accuracy: 0.1834 - val_loss: 3.4855 - val_accuracy: 0.1724\n",
            "Epoch 6/10\n",
            "1407/1407 [==============================] - 23s 17ms/step - loss: 3.3552 - accuracy: 0.1954 - val_loss: 3.4924 - val_accuracy: 0.1722\n",
            "Epoch 7/10\n",
            "1407/1407 [==============================] - 21s 15ms/step - loss: 3.3116 - accuracy: 0.2020 - val_loss: 3.4012 - val_accuracy: 0.1864\n",
            "Epoch 8/10\n",
            "1407/1407 [==============================] - 22s 15ms/step - loss: 3.2726 - accuracy: 0.2080 - val_loss: 3.4355 - val_accuracy: 0.1846\n",
            "Epoch 9/10\n",
            "1407/1407 [==============================] - 22s 15ms/step - loss: 3.2432 - accuracy: 0.2132 - val_loss: 3.3923 - val_accuracy: 0.1942\n",
            "Epoch 10/10\n",
            "1407/1407 [==============================] - 23s 16ms/step - loss: 3.2197 - accuracy: 0.2159 - val_loss: 3.3745 - val_accuracy: 0.1950\n"
          ]
        }
      ]
    },
    {
      "cell_type": "code",
      "source": [
        "y_pred=model.predict(x_test)"
      ],
      "metadata": {
        "colab": {
          "base_uri": "https://localhost:8080/"
        },
        "id": "q4Bdb8buXLuu",
        "outputId": "b8774307-8f30-41c2-a274-3f49ca37e971"
      },
      "execution_count": 64,
      "outputs": [
        {
          "output_type": "stream",
          "name": "stdout",
          "text": [
            "313/313 [==============================] - 2s 5ms/step\n"
          ]
        }
      ]
    },
    {
      "cell_type": "code",
      "source": [
        "import numpy as np\n",
        "y_pred=np.argmax(y_pred,axis=1)"
      ],
      "metadata": {
        "id": "98BdywBh1jdR"
      },
      "execution_count": 65,
      "outputs": []
    },
    {
      "cell_type": "code",
      "source": [
        "from sklearn.metrics import accuracy_score\n",
        "accuracy_score(y_test,y_pred)"
      ],
      "metadata": {
        "colab": {
          "base_uri": "https://localhost:8080/"
        },
        "id": "iJOGWopE1pdw",
        "outputId": "bf23fa6a-f35b-41c4-dd3a-be9f1437f072"
      },
      "execution_count": 66,
      "outputs": [
        {
          "output_type": "execute_result",
          "data": {
            "text/plain": [
              "0.2017"
            ]
          },
          "metadata": {},
          "execution_count": 66
        }
      ]
    }
  ]
}