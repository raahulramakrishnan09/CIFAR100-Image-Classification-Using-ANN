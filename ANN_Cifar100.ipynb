{
  "nbformat": 4,
  "nbformat_minor": 0,
  "metadata": {
    "colab": {
      "provenance": []
    },
    "kernelspec": {
      "name": "python3",
      "display_name": "Python 3"
    },
    "language_info": {
      "name": "python"
    }
  },
  "cells": [
    {
      "cell_type": "code",
      "execution_count": 17,
      "metadata": {
        "id": "pwT3AFCsUDDq"
      },
      "outputs": [],
      "source": [
        "import tensorflow as tf\n",
        "from tensorflow import keras\n",
        "from tensorflow.keras import layers\n",
        "from tensorflow.keras.datasets import cifar100\n",
        "import warnings\n",
        "warnings.filterwarnings('ignore')"
      ]
    },
    {
      "cell_type": "code",
      "source": [
        "(x_train,y_train),(x_test,y_test)=cifar100.load_data()\n",
        "(x_train,x_test)=(x_train/255,x_test/255)"
      ],
      "metadata": {
        "id": "auouGjv-VcQ-"
      },
      "execution_count": 18,
      "outputs": []
    },
    {
      "cell_type": "code",
      "source": [
        "model=keras.Sequential([layers.Flatten(input_shape=(32,32,3)),\n",
        "                       layers.Dense(128,activation='relu'),\n",
        "                       layers.Dense(128,activation='relu'),\n",
        "                       layers.Dense(100,activation='softmax')])"
      ],
      "metadata": {
        "id": "jxzdB0h7V495"
      },
      "execution_count": 19,
      "outputs": []
    },
    {
      "cell_type": "code",
      "source": [
        "model.compile(optimizer='adam',\n",
        "              loss=tf.keras.losses.SparseCategoricalCrossentropy(from_logits=True),\n",
        "              metrics=['accuracy'])"
      ],
      "metadata": {
        "id": "iuGvPSRKW75y"
      },
      "execution_count": 20,
      "outputs": []
    },
    {
      "cell_type": "code",
      "source": [
        "history=model.fit(x_train,y_train,validation_split=0.1,epochs=10)"
      ],
      "metadata": {
        "colab": {
          "base_uri": "https://localhost:8080/"
        },
        "id": "ejwogZleWw3W",
        "outputId": "e6d5cea2-880c-4c6f-ee97-f52af0c9cd5f"
      },
      "execution_count": 21,
      "outputs": [
        {
          "output_type": "stream",
          "name": "stdout",
          "text": [
            "Epoch 1/10\n",
            "1407/1407 [==============================] - 12s 8ms/step - loss: 4.1305 - accuracy: 0.0648 - val_loss: 3.9368 - val_accuracy: 0.0930\n",
            "Epoch 2/10\n",
            "1407/1407 [==============================] - 12s 8ms/step - loss: 3.8075 - accuracy: 0.1088 - val_loss: 3.8241 - val_accuracy: 0.1106\n",
            "Epoch 3/10\n",
            "1407/1407 [==============================] - 12s 8ms/step - loss: 3.7079 - accuracy: 0.1235 - val_loss: 3.7020 - val_accuracy: 0.1282\n",
            "Epoch 4/10\n",
            "1407/1407 [==============================] - 12s 8ms/step - loss: 3.6418 - accuracy: 0.1385 - val_loss: 3.6832 - val_accuracy: 0.1296\n",
            "Epoch 5/10\n",
            "1407/1407 [==============================] - 12s 8ms/step - loss: 3.5869 - accuracy: 0.1470 - val_loss: 3.6396 - val_accuracy: 0.1416\n",
            "Epoch 6/10\n",
            "1407/1407 [==============================] - 12s 8ms/step - loss: 3.5453 - accuracy: 0.1552 - val_loss: 3.6052 - val_accuracy: 0.1498\n",
            "Epoch 7/10\n",
            "1407/1407 [==============================] - 10s 7ms/step - loss: 3.5114 - accuracy: 0.1602 - val_loss: 3.5890 - val_accuracy: 0.1458\n",
            "Epoch 8/10\n",
            "1407/1407 [==============================] - 11s 8ms/step - loss: 3.4915 - accuracy: 0.1658 - val_loss: 3.6297 - val_accuracy: 0.1392\n",
            "Epoch 9/10\n",
            "1407/1407 [==============================] - 12s 8ms/step - loss: 3.4639 - accuracy: 0.1692 - val_loss: 3.6346 - val_accuracy: 0.1468\n",
            "Epoch 10/10\n",
            "1407/1407 [==============================] - 12s 8ms/step - loss: 3.4460 - accuracy: 0.1716 - val_loss: 3.6005 - val_accuracy: 0.1546\n"
          ]
        }
      ]
    },
    {
      "cell_type": "code",
      "source": [
        "y_pred=model.predict(x_test)"
      ],
      "metadata": {
        "colab": {
          "base_uri": "https://localhost:8080/"
        },
        "id": "q4Bdb8buXLuu",
        "outputId": "d175019b-5e67-4a99-fa32-489f47df1e42"
      },
      "execution_count": 22,
      "outputs": [
        {
          "output_type": "stream",
          "name": "stdout",
          "text": [
            "313/313 [==============================] - 1s 4ms/step\n"
          ]
        }
      ]
    },
    {
      "cell_type": "code",
      "source": [
        "import numpy as np\n",
        "y_pred=np.argmax(y_pred,axis=1)"
      ],
      "metadata": {
        "id": "98BdywBh1jdR"
      },
      "execution_count": 23,
      "outputs": []
    },
    {
      "cell_type": "code",
      "source": [
        "from sklearn.metrics import accuracy_score\n",
        "accuracy_score(y_test,y_pred)"
      ],
      "metadata": {
        "colab": {
          "base_uri": "https://localhost:8080/"
        },
        "id": "iJOGWopE1pdw",
        "outputId": "5c8e5bc0-1888-4cdf-acbc-53da627becf6"
      },
      "execution_count": 24,
      "outputs": [
        {
          "output_type": "execute_result",
          "data": {
            "text/plain": [
              "0.1576"
            ]
          },
          "metadata": {},
          "execution_count": 24
        }
      ]
    }
  ]
}